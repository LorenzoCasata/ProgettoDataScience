{
 "cells": [
  {
   "cell_type": "code",
   "execution_count": 22,
   "id": "fe9d48d9-9e4f-4ce0-bc92-7ea74d5790d9",
   "metadata": {},
   "outputs": [],
   "source": [
    "import pandas as pd\n",
    "import os\n",
    "import os.path\n",
    "import matplotlib.pyplot as plt\n",
    "import sklearn as skl\n",
    "import numpy as np\n",
    "import scipy \n",
    "#import PyQt5\n",
    "from matplotlib.colors import BoundaryNorm\n",
    "import matplotlib.ticker as ticker\n",
    "from matplotlib.colors import ListedColormap, LinearSegmentedColormap\n",
    "from matplotlib.ticker import MaxNLocator\n",
    "from scipy.signal import find_peaks\n",
    "from sklearn import preprocessing\n",
    "from sklearn.decomposition import PCA\n",
    "from sklearn.cluster import DBSCAN\n",
    "from AllPackage.PreProcessing import *"
   ]
  },
  {
   "cell_type": "code",
   "execution_count": 23,
   "id": "6ae3a681-2b0a-4f6f-91f3-8ea61a071a1a",
   "metadata": {},
   "outputs": [
    {
     "data": {
      "text/plain": [
       "['S1_bkg_mapA_11x11.txt',\n",
       " 'S1_mapA_11x11.txt',\n",
       " 'S2_bkg_mapA_11x11.txt',\n",
       " 'S2_mapA_11x11.txt']"
      ]
     },
     "execution_count": 23,
     "metadata": {},
     "output_type": "execute_result"
    }
   ],
   "source": [
    "# leggo i file contunuti nella cartella Campioni_S_11x11 e acquisisco i nomi dei file\n",
    "pathCampioni = '../Campioni _S_11x11/'\n",
    "namefiles = [f for f in os.listdir(pathCampioni) if os.path.isfile(os.path.join(pathCampioni, f))]\n",
    "namefiles"
   ]
  },
  {
   "cell_type": "code",
   "execution_count": 3,
   "id": "eeae84bb-91a1-4765-9b12-3c6d99e77471",
   "metadata": {},
   "outputs": [],
   "source": [
    "# creo la variabile contenente i nomi delle colonne del pandas dataframe\n",
    "\n",
    "columns = ['WaveNum']+[f'row{k}_point{i}' for k in range(1,12) for i in range(1,12)]\n"
   ]
  },
  {
   "cell_type": "code",
   "execution_count": 4,
   "id": "2a56a129-8744-42cb-a2e5-4a43f5697d18",
   "metadata": {},
   "outputs": [],
   "source": [
    "# creo i pandas dataframe dai file contenuti nella cartella Campioni_S_11x11\n",
    "\n",
    "#for name in namefiles:\n",
    "#    globals()['dataset_%s' % name[:-4]] = pd.read_csv('./Campioni _S_11x11/'+namefiles[0], delim_whitespace=True,names = columns)\n",
    "    \n",
    "data_S1_bkg = pd.read_csv(pathCampioni+namefiles[0], delim_whitespace=True,names = columns)\n",
    "data_S1 = pd.read_csv(pathCampioni+namefiles[1], delim_whitespace=True,names = columns)\n",
    "data_S2_bkg = pd.read_csv(pathCampioni+namefiles[2], delim_whitespace=True,names = columns)\n",
    "data_S2 = pd.read_csv(pathCampioni+namefiles[3], delim_whitespace=True,names = columns)\n",
    "\n"
   ]
  },
  {
   "cell_type": "code",
   "execution_count": 5,
   "id": "b37a678b-0e6a-4f43-beac-7d0f2a5318a8",
   "metadata": {},
   "outputs": [],
   "source": [
    "#proviamo a fare un po' di preprocessing\n",
    "\n",
    "data_S1_bkg_smooth = smooth_filter_savgol(data_S1_bkg,data_S1_bkg.columns)\n",
    "\n",
    "#plot_spettri_pdf(S1_bkg_smooth,S1_bkg_smooth.columns,'./smooth_pdf/')\n",
    "#plot_spettri_pdf(data_S1_bkg,data_S1_bkg.columns,'./pdf/')\n",
    "\n",
    "\n",
    "#[peaks_wn, peaks_int] = trova_picchi(data_S1_bkg_smooth,data_S1_bkg.columns)\n",
    "\n",
    "data_S1_bkg_smooth_Mm = norm_max_min(data_S1_bkg,data_S1_bkg.columns)\n",
    "#il trovapicchi sembra essere indip. da l'uso dello smooth\n",
    "\n",
    "\n",
    "#prova di trasposizione\n",
    "S1_bkg_trasp = transpose_df(data_S1_bkg_smooth_Mm)"
   ]
  },
  {
   "cell_type": "code",
   "execution_count": 6,
   "id": "cea8b919-c052-48ef-b1f4-4c5c9c785972",
   "metadata": {},
   "outputs": [
    {
     "data": {
      "text/plain": [
       "\"\\nindex = (8-1)*11 + 1 -1 # (row-1)*11 + point -1\\n\\nfig = plt.figure();\\n    \\nax = fig.add_subplot(1, 1, 1);\\n\\nax.plot(data_S1_bkg_smooth[columns[0]],  data_S1_bkg_smooth.row8_point1);\\n\\nax.scatter(peaks_wn[index],peaks_int[index],color='r',marker='x')\\n\\nax.grid(which='minor', linestyle=':', linewidth=0.5);\\n\\nax.minorticks_on();\\n\\n#ax.set_title(S1_bkg_smooth.columns[24]);\\nax.set_ylabel('Raman intensity')\\nax.set_xlabel('Raman shift (cm$^{-1}$)')\\n\""
      ]
     },
     "execution_count": 6,
     "metadata": {},
     "output_type": "execute_result"
    }
   ],
   "source": [
    "\"\"\"\n",
    "index = (8-1)*11 + 1 -1 # (row-1)*11 + point -1\n",
    "\n",
    "fig = plt.figure();\n",
    "    \n",
    "ax = fig.add_subplot(1, 1, 1);\n",
    "\n",
    "ax.plot(data_S1_bkg_smooth[columns[0]],  data_S1_bkg_smooth.row8_point1);\n",
    "\n",
    "ax.scatter(peaks_wn[index],peaks_int[index],color='r',marker='x')\n",
    "\n",
    "ax.grid(which='minor', linestyle=':', linewidth=0.5);\n",
    "\n",
    "ax.minorticks_on();\n",
    "\n",
    "#ax.set_title(S1_bkg_smooth.columns[24]);\n",
    "ax.set_ylabel('Raman intensity')\n",
    "ax.set_xlabel('Raman shift (cm$^{-1}$)')\n",
    "\"\"\""
   ]
  },
  {
   "cell_type": "code",
   "execution_count": 7,
   "id": "58f23375-e7f7-4bff-8350-75a5aad3db34",
   "metadata": {},
   "outputs": [],
   "source": [
    "pca = skl.decomposition.PCA(n_components=3)\n",
    "StandardScaler = skl.preprocessing.StandardScaler()"
   ]
  },
  {
   "cell_type": "code",
   "execution_count": 8,
   "id": "ac305672-9a15-461d-939c-61a2570134bf",
   "metadata": {},
   "outputs": [],
   "source": [
    "StandardScaler.fit_transform(S1_bkg_trasp)\n",
    "asd = pca.fit(S1_bkg_trasp)"
   ]
  },
  {
   "cell_type": "code",
   "execution_count": 9,
   "id": "477f74ec-329f-429b-9800-a0d01c5947e6",
   "metadata": {},
   "outputs": [
    {
     "data": {
      "text/plain": [
       "array([0.63518543, 0.09919981, 0.04668257])"
      ]
     },
     "execution_count": 9,
     "metadata": {},
     "output_type": "execute_result"
    }
   ],
   "source": [
    "wow = asd.transform(S1_bkg_trasp)\n",
    "asd.explained_variance_ratio_"
   ]
  },
  {
   "cell_type": "code",
   "execution_count": 10,
   "id": "cfea9c7a-55cb-48e5-b48a-fd2ea0f6b0f3",
   "metadata": {},
   "outputs": [],
   "source": [
    "#esp (la distanza tra punti interni) è il parametro più influente con cui giocare"
   ]
  },
  {
   "cell_type": "code",
   "execution_count": 11,
   "id": "4b2b2761-af76-41af-acc2-43e16e325cff",
   "metadata": {},
   "outputs": [
    {
     "data": {
      "text/plain": [
       "array([ 0,  1, -1,  2,  2,  2,  2,  2,  0,  1,  2,  2,  2,  2,  2, -1,  2,\n",
       "        0,  2,  2,  2,  2,  2,  2,  2,  2, -1,  3, -1,  2,  2, -1, -1,  2,\n",
       "       -1,  1,  2,  2, -1,  2,  2,  2,  2,  2,  3,  0,  2, -1, -1,  2,  2,\n",
       "        2,  2,  2,  2,  2,  2,  2,  2,  2,  2,  2, -1,  3,  1,  1,  0, -1,\n",
       "        3,  1,  2,  2, -1,  2, -1,  2,  0,  2,  3,  2,  2, -1,  2,  2,  2,\n",
       "        1, -1, -1,  1,  2,  2,  2, -1,  1,  2, -1,  2,  1, -1,  2,  2,  2,\n",
       "        2,  2, -1,  2,  2,  2,  2, -1,  2, -1,  2,  2,  1,  2, -1, -1, -1,\n",
       "       -1,  1], dtype=int64)"
      ]
     },
     "execution_count": 11,
     "metadata": {},
     "output_type": "execute_result"
    }
   ],
   "source": [
    "# cluster è un array contenente l'indice del cluster di appartenenza di ogni punto del dataframe\n",
    "cluster = DBSCAN(eps=1.5, min_samples=5).fit_predict(wow)\n",
    "cluster"
   ]
  },
  {
   "cell_type": "code",
   "execution_count": 12,
   "id": "0489e74d-fb2c-4a54-9921-b7d8fd6ef9f0",
   "metadata": {},
   "outputs": [],
   "source": [
    "color = []\n",
    "for x in cluster:\n",
    "    if(x==0):\n",
    "        color.append('tab:blue')\n",
    "    if(x==1):\n",
    "        color.append('tab:orange')\n",
    "    if(x==2):\n",
    "        color.append('tab:green')\n",
    "    if(x==3):\n",
    "        color.append('tab:red' )\n",
    "    if(x==-1):\n",
    "        color.append('tab:purple')\n"
   ]
  },
  {
   "cell_type": "code",
   "execution_count": 13,
   "id": "96377ecc-ad9f-432d-9347-b617461e7329",
   "metadata": {},
   "outputs": [],
   "source": [
    "%matplotlib qt\n",
    "\n",
    "fig = plt.figure();\n",
    "\n",
    "X=wow[:,0]\n",
    "Y=wow[:,1]\n",
    "Z=wow[:,2]\n",
    "\n",
    "ax = fig.add_subplot(111,projection='3d');\n",
    "ax.scatter(X, Y, Z, c=color, marker='x')\n",
    "ax.grid(which='minor', linestyle=':', linewidth=0.5);\n",
    "\n",
    "ax.minorticks_on();\n",
    "\n",
    "ax.set_title(data_S1_bkg.columns[24]);\n",
    "ax.set_ylabel('PC1')\n",
    "ax.set_xlabel('PC0')\n",
    "ax.set_zlabel('PC2')\n",
    "\n",
    "plt.show()"
   ]
  },
  {
   "cell_type": "code",
   "execution_count": 14,
   "id": "5fc81586",
   "metadata": {},
   "outputs": [],
   "source": []
  },
  {
   "cell_type": "code",
   "execution_count": 15,
   "id": "76c13c5f",
   "metadata": {},
   "outputs": [],
   "source": [
    "   "
   ]
  },
  {
   "cell_type": "code",
   "execution_count": 43,
   "id": "d431cdbd",
   "metadata": {},
   "outputs": [
    {
     "data": {
      "text/plain": [
       "<matplotlib.colorbar.Colorbar at 0x2a9b92f63e0>"
      ]
     },
     "execution_count": 43,
     "metadata": {},
     "output_type": "execute_result"
    }
   ],
   "source": [
    "\n",
    "\n"
   ]
  }
 ],
 "metadata": {
  "kernelspec": {
   "display_name": "Python 3 (ipykernel)",
   "language": "python",
   "name": "python3"
  },
  "language_info": {
   "codemirror_mode": {
    "name": "ipython",
    "version": 3
   },
   "file_extension": ".py",
   "mimetype": "text/x-python",
   "name": "python",
   "nbconvert_exporter": "python",
   "pygments_lexer": "ipython3",
   "version": "3.10.5"
  }
 },
 "nbformat": 4,
 "nbformat_minor": 5
}
