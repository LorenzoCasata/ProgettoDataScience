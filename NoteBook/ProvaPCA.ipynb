{
 "cells": [
  {
   "cell_type": "code",
   "execution_count": 68,
   "id": "efb6af0e",
   "metadata": {},
   "outputs": [],
   "source": [
    "import pandas as pd\n",
    "import os\n",
    "import os.path\n",
    "import matplotlib.pyplot as plt\n",
    "import sklearn as skl\n",
    "import numpy as np\n",
    "import scipy \n",
    "import matplotlib as mpl\n",
    "import PyQt5\n",
    "from matplotlib.colors import BoundaryNorm\n",
    "import matplotlib.ticker as ticker\n",
    "from matplotlib.colors import ListedColormap, LinearSegmentedColormap\n",
    "from matplotlib.ticker import MaxNLocator\n",
    "from scipy.signal import find_peaks\n",
    "from sklearn import preprocessing\n",
    "from sklearn.decomposition import PCA\n",
    "from sklearn.cluster import DBSCAN, KMeans\n",
    "os.chdir('../')\n",
    "from AllPackage import *\n",
    "from AllPackage.Data.PreProcessing import *\n",
    "from AllPackage.PreProcessing import *\n",
    "from AllPackage.Cluster import *\n",
    "os.chdir('./NoteBook')"
   ]
  },
  {
   "cell_type": "code",
   "execution_count": null,
   "id": "6ae3a681-2b0a-4f6f-91f3-8ea61a071a1a",
   "metadata": {},
   "outputs": [],
   "source": [
    "# leggo i file contunuti nella cartella Campioni_S_11x11 e acquisisco i nomi dei file\n",
    "pathCampioni = '../Campioni _S_11x11/'\n",
    "namefiles = [f for f in os.listdir(pathCampioni) if os.path.isfile(os.path.join(pathCampioni, f))]\n",
    "namefiles = ['S1_bkg_mapA_11x11.txt', 'S1_mapA_11x11.txt', 'S2_bkg_mapA_11x11.txt', 'S2_mapA_11x11.txt']"
   ]
  },
  {
   "cell_type": "code",
   "execution_count": null,
   "id": "eeae84bb-91a1-4765-9b12-3c6d99e77471",
   "metadata": {},
   "outputs": [],
   "source": [
    "# creo la variabile contenente i nomi delle colonne del pandas dataframe\n",
    "\n",
    "columns = ['WaveNum']+[f'row{k}_point{i}' for k in range(1,12) for i in range(1,12)]\n"
   ]
  },
  {
   "cell_type": "code",
   "execution_count": null,
   "id": "2a56a129-8744-42cb-a2e5-4a43f5697d18",
   "metadata": {},
   "outputs": [],
   "source": [
    "# creo i pandas dataframe dai file contenuti nella cartella Campioni_S_11x11\n",
    "\n",
    "#for name in namefiles:\n",
    "#    globals()['dataset_%s' % name[:-4]] = pd.read_csv('./Campioni _S_11x11/'+namefiles[0], delim_whitespace=True,names = columns)\n",
    "    \n",
    "data_S1_bkg = pd.read_csv(pathCampioni+namefiles[0], delim_whitespace=True,names = columns)\n",
    "data_S1 = pd.read_csv(pathCampioni+namefiles[1], delim_whitespace=True,names = columns)\n",
    "data_S2_bkg = pd.read_csv(pathCampioni+namefiles[2], delim_whitespace=True,names = columns)\n",
    "data_S2 = pd.read_csv(pathCampioni+namefiles[3], delim_whitespace=True,names = columns)\n",
    "\n"
   ]
  },
  {
   "cell_type": "code",
   "execution_count": 73,
   "id": "b37a678b-0e6a-4f43-beac-7d0f2a5318a8",
   "metadata": {},
   "outputs": [],
   "source": [
    "#proviamo a fare un po' di preprocessing\n",
    "\n",
    "S1_bkg_smooth = smooth_filter_savgol(data_S1_bkg,data_S1_bkg.columns)\n",
    "S1_smooth = smooth_filter_savgol(data_S1,data_S1.columns)\n",
    "#plot_spettri_pdf(S1_bkg_smooth,S1_bkg_smooth.columns,'./smooth_pdf/')\n",
    "#plot_spettri_pdf(data_S1_bkg,data_S1_bkg.columns,'./pdf/')\n",
    "\n",
    "[peaks_wn, peaks_int] = trova_picchi(data_S1_bkg,data_S1_bkg.columns)\n",
    "\n",
    "#il trovapicchi sembra essere indip. da l'uso dello smooth\n",
    "S1_bkg_norm = norm_max_min(S1_bkg_smooth,S1_bkg_smooth.columns)\n",
    "S1_norm = norm_max_min(S1_smooth,S1_smooth.columns)\n",
    "\n",
    "#prova di trasposizione\n",
    "S1_bkg_trasp = transpose_df(S1_bkg_norm)\n",
    "S1_trasp = transpose_df(S1_norm)\n",
    "S1_bkg_trasp1 = transpose_df(S1_bkg_smooth)"
   ]
  },
  {
   "cell_type": "code",
   "execution_count": null,
   "id": "5063ab09",
   "metadata": {},
   "outputs": [],
   "source": [
    "#proviamo a fare un po' di preprocessing\n",
    "S2_bkg_smooth = smooth_filter_savgol(data_S2_bkg,data_S2_bkg.columns)\n",
    "S2_smooth = smooth_filter_savgol(data_S2,data_S2.columns)\n",
    "#plot_spettri_pdf(S2_bkg_smooth,S2_bkg_smooth.columns,'./smooth_pdf/')\n",
    "#plot_spettri_pdf(data_S2_bkg,data_S2_bkg.columns,'./pdf/')\n",
    "\n",
    "[peaks_wn, peaks_int] = trova_picchi(data_S2_bkg,data_S2_bkg.columns)\n",
    "\n",
    "#il trovapicchi sembra essere indip. da l'uso dello smooth\n",
    "S2_bkg_norm = norm_max_min(S2_bkg_smooth,S2_bkg_smooth.columns)\n",
    "S2_norm = norm_max_min(S2_smooth,S2_smooth.columns)\n",
    "\n",
    "#prova di trasposizione\n",
    "S2_bkg_trasp = transpose_df(S2_bkg_norm)\n",
    "S2_trasp = transpose_df(S2_norm)\n",
    "S2_bkg_trasp2 = transpose_df(S2_bkg_smooth)"
   ]
  },
  {
   "cell_type": "code",
   "execution_count": 75,
   "id": "cea8b919-c052-48ef-b1f4-4c5c9c785972",
   "metadata": {},
   "outputs": [],
   "source": [
    "#%matplotlib inline\n",
    "#fig = plt.figure();\n",
    "    \n",
    "#ax = fig.add_subplot(1, 1, 1);\n",
    "#ax.plot(S1_bkg_smooth[S1_bkg_smooth.columns[0]],  S1_bkg_smooth[S1_bkg_smooth.columns[59]]);\n",
    "#ax.scatter(peaks_wn[59],peaks_int[59],color='r',marker='x')\n",
    "#ax.grid(which='minor', linestyle=':', linewidth=0.5);\n",
    "#ax.minorticks_on();\n",
    "\n",
    "#ax.set_title(S1_bkg_smooth.columns[24]);\n",
    "#ax.set_ylabel('Raman intensity')\n",
    "#ax.set_xlabel('Raman shift (cm$^{-1}$)')\n"
   ]
  },
  {
   "cell_type": "code",
   "execution_count": null,
   "id": "58f23375-e7f7-4bff-8350-75a5aad3db34",
   "metadata": {},
   "outputs": [],
   "source": [
    "pca = skl.decomposition.PCA(n_components = 3 )\n",
    "StandardScaler = skl.preprocessing.StandardScaler()"
   ]
  },
  {
   "cell_type": "code",
   "execution_count": null,
   "id": "ac305672-9a15-461d-939c-61a2570134bf",
   "metadata": {},
   "outputs": [],
   "source": [
    "StandardScaler.fit_transform(S1_bkg_trasp)\n",
    "asd = pca.fit(S1_bkg_trasp)"
   ]
  },
  {
   "cell_type": "code",
   "execution_count": null,
   "id": "477f74ec-329f-429b-9800-a0d01c5947e6",
   "metadata": {},
   "outputs": [],
   "source": [
    "wow = asd.transform(S1_bkg_trasp)\n",
    "asd.explained_variance_ratio_"
   ]
  },
  {
   "cell_type": "code",
   "execution_count": 31,
   "id": "7e74cc2e",
   "metadata": {},
   "outputs": [
    {
     "data": {
      "image/png": "[encoded data removed]",
      "text/plain": [
       "<Figure size 432x288 with 2 Axes>"
      ]
     },
     "metadata": {
      "needs_background": "light"
     },
     "output_type": "display_data"
    }
   ],
   "source": [
    "clustering(wow, './mappa_1.6_3', [1.6, 3],'S1', False)"
   ]
  },
  {
   "cell_type": "code",
   "execution_count": 78,
   "id": "cfea9c7a-55cb-48e5-b48a-fd2ea0f6b0f3",
   "metadata": {},
   "outputs": [],
   "source": [
    "#esp (la distanza tra punti interni) è il parametro più influente con cui giocare\n",
    "total_var = []\n",
    "for i in range(1,10):\n",
    "    pca = skl.decomposition.PCA(n_components=i)\n",
    "    StandardScaler.fit_transform(S1_bkg_trasp)\n",
    "    asd = pca.fit(S1_bkg_trasp)\n",
    "    wow = asd.transform(S1_bkg_trasp)\n",
    "    total_var.append(asd.explained_variance_ratio_.sum())\n",
    "    "
   ]
  },
  {
   "cell_type": "code",
   "execution_count": 79,
   "id": "2d675da2-d2fa-46a9-aaff-71f7afcef570",
   "metadata": {},
   "outputs": [
    {
     "data": {
      "image/png": "[encoded data removed]",
      "text/plain": [
       "<Figure size 432x288 with 1 Axes>"
      ]
     },
     "metadata": {
      "needs_background": "light"
     },
     "output_type": "display_data"
    }
   ],
   "source": [
    "%matplotlib inline\n",
    "\n",
    "fig = plt.figure()\n",
    "ax = fig.add_subplot(1,1,1)\n",
    "PCs = [x for x in range(1,10)]\n",
    "ax.bar(PCs,total_var)\n",
    "plt.axhline(y=0.85 ,color='r')\n",
    "plt.show()"
   ]
  },
  {
   "cell_type": "code",
   "execution_count": null,
   "id": "9bc955e6",
   "metadata": {},
   "outputs": [],
   "source": []
  },
  {
   "cell_type": "code",
   "execution_count": 41,
   "id": "4b2b2761-af76-41af-acc2-43e16e325cff",
   "metadata": {},
   "outputs": [],
   "source": [
    "clusterDB = DBSCAN(eps=3, min_samples=5).fit_predict(wow)\n",
    "clusterKM = KMeans(n_clusters=5).fit_predict(wow)"
   ]
  },
  {
   "cell_type": "code",
   "execution_count": null,
   "id": "55d41522",
   "metadata": {},
   "outputs": [],
   "source": []
  },
  {
   "cell_type": "code",
   "execution_count": 42,
   "id": "0489e74d-fb2c-4a54-9921-b7d8fd6ef9f0",
   "metadata": {},
   "outputs": [],
   "source": [
    "color = []\n",
    "for x in clusterKM:\n",
    "    if(x==0):\n",
    "        color.append('r')\n",
    "    if(x==1):\n",
    "        color.append('g')\n",
    "    if(x==2):\n",
    "        color.append('b')\n",
    "    if(x==3):\n",
    "        color.append('y')\n",
    "    if(x==4):\n",
    "        color.append('m')\n",
    "    if(x==-1):\n",
    "        color.append('k')"
   ]
  },
  {
   "cell_type": "code",
   "execution_count": 43,
   "id": "4b7a7131-ab9f-4250-9112-50e14fe419ff",
   "metadata": {},
   "outputs": [
    {
     "data": {
      "text/plain": [
       "121"
      ]
     },
     "execution_count": 43,
     "metadata": {},
     "output_type": "execute_result"
    }
   ],
   "source": [
    "len(color)"
   ]
  },
  {
   "cell_type": "code",
   "execution_count": 44,
   "id": "96377ecc-ad9f-432d-9347-b617461e7329",
   "metadata": {},
   "outputs": [
    {
     "data": {
      "text/plain": [
       "Text(0.5, 0, 'PC2')"
      ]
     },
     "execution_count": 44,
     "metadata": {},
     "output_type": "execute_result"
    }
   ],
   "source": [
    "%matplotlib qt\n",
    "\n",
    "fig = plt.figure();\n",
    "\n",
    "X=wow[:,0]\n",
    "Y=wow[:,1]\n",
    "Z=wow[:,2]\n",
    "\n",
    "ax = fig.add_subplot(111,projection='3d');\n",
    "ax.scatter(X, Y, Z, c=color, marker='x')\n",
    "ax.grid(which='minor', linestyle=':', linewidth=0.5);\n",
    "\n",
    "ax.minorticks_on();\n",
    "\n",
    "ax.set_title(S1_bkg_smooth.columns[24]);\n",
    "ax.set_ylabel('PC1')\n",
    "ax.set_xlabel('PC0')\n",
    "ax.set_zlabel('PC2')\n",
    "\n"
   ]
  },
  {
   "cell_type": "code",
   "execution_count": 45,
   "id": "b38d8d12-dc7c-47b4-bc6f-12e368cac250",
   "metadata": {},
   "outputs": [
    {
     "data": {
      "text/plain": [
       "'/home/ksatn/ProgettoDataScience/NoteBook'"
      ]
     },
     "execution_count": 45,
     "metadata": {},
     "output_type": "execute_result"
    }
   ],
   "source": [
    "os.getcwd()"
   ]
  },
  {
   "cell_type": "code",
   "execution_count": null,
   "id": "0c7350f8",
   "metadata": {},
   "outputs": [],
   "source": []
  },
  {
   "cell_type": "code",
   "execution_count": null,
   "id": "82e35ae2",
   "metadata": {},
   "outputs": [],
   "source": []
  }
 ],
 "metadata": {
  "kernelspec": {
   "display_name": "Python 3 (ipykernel)",
   "language": "python",
   "name": "python3"
  },
  "language_info": {
   "codemirror_mode": {
    "name": "ipython",
    "version": 3
   },
   "file_extension": ".py",
   "mimetype": "text/x-python",
   "name": "python",
   "nbconvert_exporter": "python",
   "pygments_lexer": "ipython3",
   "version": "3.10.5"
  }
 },
 "nbformat": 4,
 "nbformat_minor": 5
}
