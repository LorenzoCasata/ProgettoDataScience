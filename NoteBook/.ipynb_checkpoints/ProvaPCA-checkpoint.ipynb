{
 "cells": [
  {
   "cell_type": "code",
   "execution_count": 1,
   "id": "fe9d48d9-9e4f-4ce0-bc92-7ea74d5790d9",
   "metadata": {},
   "outputs": [],
   "source": [
    "import pandas as pd\n",
    "import os\n",
    "import os.path\n",
    "import matplotlib.pyplot as plt\n",
    "import sklearn as skl\n",
    "import numpy as np\n",
    "import scipy \n",
    "from scipy.signal import find_peaks\n",
    "from sklearn import preprocessing\n",
    "from sklearn.decomposition import PCA\n",
    "from sklearn.cluster import DBSCAN\n",
    "\n",
    "from AllPackage.PreProcessing import *"
   ]
  },
  {
   "cell_type": "code",
   "execution_count": 2,
   "id": "6ae3a681-2b0a-4f6f-91f3-8ea61a071a1a",
   "metadata": {},
   "outputs": [
    {
     "data": {
      "text/plain": [
       "['S2_bkg_mapA_11x11.txt',\n",
       " 'S1_mapA_11x11.txt',\n",
       " 'S2_mapA_11x11.txt',\n",
       " 'S1_bkg_mapA_11x11.txt']"
      ]
     },
     "execution_count": 2,
     "metadata": {},
     "output_type": "execute_result"
    }
   ],
   "source": [
    "# leggo i file contunuti nella cartella Campioni_S_11x11 e acquisisco i nomi dei file\n",
    "pathCampioni = '../Campioni _S_11x11/'\n",
    "namefiles = [f for f in os.listdir(pathCampioni) if os.path.isfile(os.path.join(pathCampioni, f))]\n",
    "namefiles"
   ]
  },
  {
   "cell_type": "code",
   "execution_count": 3,
   "id": "eeae84bb-91a1-4765-9b12-3c6d99e77471",
   "metadata": {},
   "outputs": [],
   "source": [
    "# creo la variabile contenente i nomi delle colonne del pandas dataframe\n",
    "\n",
    "columns = ['WaveNum']+[f'row{k}_point{i}' for k in range(1,12) for i in range(1,12)]\n"
   ]
  },
  {
   "cell_type": "code",
   "execution_count": 4,
   "id": "2a56a129-8744-42cb-a2e5-4a43f5697d18",
   "metadata": {},
   "outputs": [],
   "source": [
    "# creo i pandas dataframe dai file contenuti nella cartella Campioni_S_11x11\n",
    "\n",
    "#for name in namefiles:\n",
    "#    globals()['dataset_%s' % name[:-4]] = pd.read_csv('./Campioni _S_11x11/'+namefiles[0], delim_whitespace=True,names = columns)\n",
    "    \n",
    "data_S1_bkg = pd.read_csv(pathCampioni+namefiles[0], delim_whitespace=True,names = columns)\n",
    "data_S1 = pd.read_csv(pathCampioni+namefiles[1], delim_whitespace=True,names = columns)\n",
    "data_S2_bkg = pd.read_csv(pathCampioni+namefiles[2], delim_whitespace=True,names = columns)\n",
    "data_S2 = pd.read_csv(pathCampioni+namefiles[3], delim_whitespace=True,names = columns)\n",
    "\n"
   ]
  },
  {
   "cell_type": "code",
   "execution_count": 5,
   "id": "b37a678b-0e6a-4f43-beac-7d0f2a5318a8",
   "metadata": {},
   "outputs": [],
   "source": [
    "#proviamo a fare un po' di preprocessing\n",
    "\n",
    "S1_bkg_smooth = smooth_filter_savgol(data_S1_bkg,data_S1_bkg.columns)\n",
    "#plot_spettri_pdf(S1_bkg_smooth,S1_bkg_smooth.columns,'./smooth_pdf/')\n",
    "#plot_spettri_pdf(data_S1_bkg,data_S1_bkg.columns,'./pdf/')\n",
    "[peaks_wn, peaks_int] = trova_picchi(data_S1_bkg,data_S1_bkg.columns)\n",
    "#il trovapicchi sembra essere indip. da l'uso dello smooth\n",
    "S1_bkg_smooth = norm_max_min(S1_bkg_smooth,S1_bkg_smooth.columns)\n",
    "#prova di trasposizione\n",
    "S1_bkg_trasp = transpose_df(S1_bkg_smooth)"
   ]
  },
  {
   "cell_type": "code",
   "execution_count": 6,
   "id": "cea8b919-c052-48ef-b1f4-4c5c9c785972",
   "metadata": {},
   "outputs": [
    {
     "data": {
      "text/plain": [
       "Text(0.5, 0, 'Raman shift (cm$^{-1}$)')"
      ]
     },
     "execution_count": 6,
     "metadata": {},
     "output_type": "execute_result"
    },
    {
     "data": {
      "image/png": "[encoded data removed]",
      "text/plain": [
       "<Figure size 432x288 with 1 Axes>"
      ]
     },
     "metadata": {
      "needs_background": "light"
     },
     "output_type": "display_data"
    }
   ],
   "source": [
    " fig = plt.figure();\n",
    "    \n",
    "ax = fig.add_subplot(1, 1, 1);\n",
    "ax.plot(S1_bkg_smooth[S1_bkg_smooth.columns[0]],  S1_bkg_smooth[S1_bkg_smooth.columns[59]]);\n",
    "ax.scatter(peaks_wn[59],peaks_int[59],color='r',marker='x')\n",
    "ax.grid(which='minor', linestyle=':', linewidth=0.5);\n",
    "ax.minorticks_on();\n",
    "\n",
    "ax.set_title(S1_bkg_smooth.columns[24]);\n",
    "ax.set_ylabel('Raman intensity')\n",
    "ax.set_xlabel('Raman shift (cm$^{-1}$)')\n"
   ]
  },
  {
   "cell_type": "code",
   "execution_count": 7,
   "id": "58f23375-e7f7-4bff-8350-75a5aad3db34",
   "metadata": {},
   "outputs": [],
   "source": [
    "pca = skl.decomposition.PCA(n_components=3)\n",
    "StandardScaler = skl.preprocessing.StandardScaler()"
   ]
  },
  {
   "cell_type": "code",
   "execution_count": 8,
   "id": "ac305672-9a15-461d-939c-61a2570134bf",
   "metadata": {},
   "outputs": [],
   "source": [
    "StandardScaler.fit_transform(S1_bkg_trasp)\n",
    "asd = pca.fit(S1_bkg_trasp)"
   ]
  },
  {
   "cell_type": "code",
   "execution_count": 16,
   "id": "477f74ec-329f-429b-9800-a0d01c5947e6",
   "metadata": {},
   "outputs": [
    {
     "data": {
      "text/plain": [
       "array([0.72267085, 0.08827358, 0.04147336])"
      ]
     },
     "execution_count": 16,
     "metadata": {},
     "output_type": "execute_result"
    }
   ],
   "source": [
    "wow = asd.transform(S1_bkg_trasp)\n",
    "asd.explained_variance_ratio_"
   ]
  },
  {
   "cell_type": "code",
   "execution_count": null,
   "id": "cfea9c7a-55cb-48e5-b48a-fd2ea0f6b0f3",
   "metadata": {},
   "outputs": [],
   "source": [
    "#esp (la distanza tra punti interni) è il parametro più influente con cui giocare"
   ]
  },
  {
   "cell_type": "code",
   "execution_count": 157,
   "id": "4b2b2761-af76-41af-acc2-43e16e325cff",
   "metadata": {},
   "outputs": [],
   "source": [
    "cluster = DBSCAN(eps=1.5, min_samples=5).fit_predict(wow)"
   ]
  },
  {
   "cell_type": "code",
   "execution_count": 158,
   "id": "925adc04-01c1-4506-b52a-ec47a01ffd80",
   "metadata": {},
   "outputs": [
    {
     "data": {
      "text/plain": [
       "array([ 0,  0, -1,  1, -1, -1,  0,  0,  0, -1,  0,  0,  1,  1,  0,  0,  0,\n",
       "       -1,  0,  2, -1, -1,  1,  0,  1,  0, -1, -1,  0, -1, -1,  0,  1,  1,\n",
       "       -1,  0,  3,  1,  3,  2,  3,  1, -1,  1,  1, -1,  3, -1, -1,  1,  1,\n",
       "       -1,  0,  1,  1,  0,  0,  3,  1, -1,  3, -1, -1,  0,  1, -1, -1, -1,\n",
       "        0, -1, -1,  1, -1,  2, -1, -1,  1, -1,  1, -1,  1, -1, -1,  2, -1,\n",
       "        2, -1,  2,  1,  2, -1, -1, -1, -1, -1, -1, -1,  0, -1,  0,  1,  1,\n",
       "        1,  0,  1,  0,  1, -1, -1, -1, -1, -1,  0,  1, -1, -1,  1, -1,  0,\n",
       "       -1,  0])"
      ]
     },
     "execution_count": 158,
     "metadata": {},
     "output_type": "execute_result"
    }
   ],
   "source": [
    "cluster"
   ]
  },
  {
   "cell_type": "code",
   "execution_count": 159,
   "id": "0489e74d-fb2c-4a54-9921-b7d8fd6ef9f0",
   "metadata": {},
   "outputs": [],
   "source": [
    "color = []\n",
    "for x in cluster:\n",
    "    if(x==0):\n",
    "        color.append('r')\n",
    "    if(x==1):\n",
    "        color.append('g')\n",
    "    if(x==2):\n",
    "        color.append('b')\n",
    "    if(x==3):\n",
    "        color.append('y')\n",
    "    if(x==-1):\n",
    "        color.append('k')"
   ]
  },
  {
   "cell_type": "code",
   "execution_count": 160,
   "id": "96377ecc-ad9f-432d-9347-b617461e7329",
   "metadata": {},
   "outputs": [
    {
     "data": {
      "text/plain": [
       "Text(0.5, 0, 'PC2')"
      ]
     },
     "execution_count": 160,
     "metadata": {},
     "output_type": "execute_result"
    }
   ],
   "source": [
    "%matplotlib qt\n",
    "\n",
    "fig = plt.figure();\n",
    "\n",
    "X=wow[:,0]\n",
    "Y=wow[:,1]\n",
    "Z=wow[:,2]\n",
    "\n",
    "ax = fig.add_subplot(111,projection='3d');\n",
    "ax.scatter(X, Y, Z, c=color, marker='x')\n",
    "ax.grid(which='minor', linestyle=':', linewidth=0.5);\n",
    "\n",
    "ax.minorticks_on();\n",
    "\n",
    "ax.set_title(S1_bkg_smooth.columns[24]);\n",
    "ax.set_ylabel('PC1')\n",
    "ax.set_xlabel('PC0')\n",
    "ax.set_zlabel('PC2')\n",
    "\n"
   ]
  },
  {
   "cell_type": "code",
   "execution_count": null,
   "id": "fa18ff5c-fc75-4ac4-ac4a-a8fb20a9eee5",
   "metadata": {},
   "outputs": [
    {
     "data": {
      "text/plain": [
       "array([[-1.01038991e+01,  9.49641308e-01, -1.43446604e+00],\n",
       "       [-9.45400039e+00,  6.90416555e-01, -1.48624116e+00],\n",
       "       [-4.48871039e+00,  6.00665102e-01, -1.52424960e+00],\n",
       "       [-5.16293211e+00, -2.54601846e+00,  8.98390575e-01],\n",
       "       [ 8.25215085e+00, -1.23174115e+00, -4.10118786e+00],\n",
       "       [-5.74141267e+00, -1.54523403e+00,  1.14293914e+00],\n",
       "       [-9.52240674e+00,  9.98475546e-01, -1.64705423e+00],\n",
       "       [-8.91022346e+00,  9.83281836e-01, -2.04427936e+00],\n",
       "       [-9.39619261e+00,  1.21473718e+00, -1.84260655e+00],\n",
       "       [-3.81733397e+00, -8.79669606e-01, -3.16422258e-01],\n",
       "       [-9.04277700e+00,  1.22087320e+00, -1.74179844e+00],\n",
       "       [-1.14450476e+01,  1.55650997e+00, -1.78252361e+00],\n",
       "       [-3.37497409e+00, -4.30917482e+00,  2.40481436e+00],\n",
       "       [-3.85512561e+00, -3.73280133e+00,  1.59270858e+00],\n",
       "       [-9.47983434e+00, -1.10355274e-01, -2.66933678e-01],\n",
       "       [-1.16192509e+01,  1.65870883e+00, -1.76180902e+00],\n",
       "       [-9.72819336e+00,  1.39207572e+00, -1.73215647e+00],\n",
       "       [-1.37779408e+01,  3.17195754e+00, -2.16715788e+00],\n",
       "       [-1.29377704e+01,  2.86757607e+00, -2.09321784e+00],\n",
       "       [-4.20788551e+00,  5.05125687e+00,  4.83859127e-01],\n",
       "       [ 1.93761106e+01, -1.68865811e+00, -3.11165391e+00],\n",
       "       [-5.06510285e+00, -1.00159292e+00, -5.32934185e-01],\n",
       "       [ 2.22570687e-01, -3.29262588e+00,  1.30821221e+00],\n",
       "       [-5.94919995e+00,  1.09677560e+00, -1.79055887e+00],\n",
       "       [-5.44907716e+00, -3.46427276e+00,  2.20717759e+00],\n",
       "       [-1.08536677e+01,  4.42062665e-01, -1.09777125e+00],\n",
       "       [ 1.36070512e+01, -1.36300736e+00, -4.18727607e+00],\n",
       "       [ 1.61842433e+01, -1.32486335e-01, -3.95682699e+00],\n",
       "       [-7.23796630e+00,  1.23544503e-03, -1.32162468e+00],\n",
       "       [ 1.33690897e+01,  4.93526591e+00,  3.18619750e+00],\n",
       "       [ 1.30002661e+01,  4.32476825e+00,  2.29565912e+00],\n",
       "       [-9.87253077e+00,  1.12695771e+00, -1.54999389e+00],\n",
       "       [-5.13253925e+00, -3.39929859e+00,  1.82072620e+00],\n",
       "       [-4.23418366e+00, -3.08125841e+00,  2.08729379e+00],\n",
       "       [-5.46584645e+00, -2.62877846e-01, -1.14277368e+00],\n",
       "       [-7.07840049e+00,  1.08919311e+00, -1.68572699e+00],\n",
       "       [ 1.66542192e+01, -2.84439422e+00, -4.31771514e+00],\n",
       "       [-1.89996558e+00, -4.30384467e+00,  2.13658585e+00],\n",
       "       [ 1.60722638e+01, -1.70181503e+00, -3.92684509e+00],\n",
       "       [-4.20788551e+00,  5.05125687e+00,  4.83859127e-01],\n",
       "       [ 1.54654098e+01, -2.01032540e+00, -2.63062385e+00],\n",
       "       [-2.66576664e-02, -3.25892480e+00,  2.63839595e+00],\n",
       "       [ 1.25398198e+01, -1.20894441e+00, -2.92314040e+00],\n",
       "       [-1.15003627e+00, -3.93156874e+00,  2.25044307e+00],\n",
       "       [-4.40741293e+00, -3.65646459e+00,  1.94707475e+00],\n",
       "       [ 4.45972400e+00, -4.09690566e+00, -3.26029187e-01],\n",
       "       [ 1.66712560e+01, -9.35907636e-01, -3.44840367e+00],\n",
       "       [ 1.02999640e+01, -4.91596698e+00, -3.06730630e+00],\n",
       "       [ 1.71831657e+00,  4.08378534e-01, -1.68521387e+00],\n",
       "       [-2.18134710e+00, -3.28220597e+00,  1.07781217e+00],\n",
       "       [-3.03278227e+00, -4.48535105e+00,  2.52299417e+00],\n",
       "       [-5.93163905e+00, -2.23277669e+00,  9.00800614e-01],\n",
       "       [-1.18617120e+01,  1.94872040e+00, -1.66060275e+00],\n",
       "       [ 9.70761223e-01, -3.06366759e+00,  2.54024451e+00],\n",
       "       [-2.61517686e+00, -2.76733851e+00,  1.91889799e+00],\n",
       "       [-8.63714956e+00,  3.17584754e-01, -7.02654182e-01],\n",
       "       [-1.05203682e+01,  9.15282048e-01, -1.52606216e+00],\n",
       "       [ 1.50724595e+01, -2.20743222e+00, -2.53311859e+00],\n",
       "       [-2.13766169e+00, -3.42750408e+00,  2.51307607e+00],\n",
       "       [-7.44875456e+00, -9.25722953e-01, -2.48269050e-01],\n",
       "       [ 1.63896249e+01, -2.68596645e+00, -3.01396508e+00],\n",
       "       [ 1.36027595e+01, -6.39153158e-01,  1.43562565e+00],\n",
       "       [ 4.38988479e+00,  2.76557615e+00,  4.97962652e+00],\n",
       "       [-8.11804632e+00,  1.41136939e+00, -1.93778694e+00],\n",
       "       [ 2.06225171e+00, -3.52431014e+00,  3.26783038e+00],\n",
       "       [ 8.06002015e+00,  5.91888296e+00,  2.86827594e+00],\n",
       "       [ 1.11830366e+01,  2.77017973e+00,  7.89431254e-01],\n",
       "       [ 6.59813896e+00,  8.33414047e+00,  2.28166302e+00],\n",
       "       [-9.78668062e+00, -6.50551905e-01, -3.19011456e-01],\n",
       "       [-9.96901787e-01, -1.49579322e+00,  1.81899307e+00],\n",
       "       [ 1.11914420e+01,  5.79630202e+00,  4.71964055e+00],\n",
       "       [-4.79394513e+00, -3.84641911e+00,  2.55983521e+00],\n",
       "       [ 1.26001370e+01,  2.29732784e+00,  1.49423101e+00],\n",
       "       [-4.20788551e+00,  5.05125687e+00,  4.83859127e-01],\n",
       "       [ 1.30171898e+01,  4.57042455e+00,  1.21972656e+00],\n",
       "       [-2.41104617e+00,  5.26751893e+00,  7.05999669e-01],\n",
       "       [-3.18159082e+00, -3.59800909e+00,  2.28589714e+00],\n",
       "       [ 1.40305400e+01, -3.11470405e+00, -1.51248192e+00],\n",
       "       [-1.65407895e+00, -3.61102271e+00,  2.82838929e+00],\n",
       "       [ 2.58049539e+00, -3.65525215e+00,  2.18265071e+00],\n",
       "       [-2.01648406e+00, -4.10766759e+00,  2.71685760e+00],\n",
       "       [ 3.83237638e+00,  3.09772678e+00, -2.88901527e-02],\n",
       "       [-4.06427756e+00, -9.61211033e-01,  1.51016327e+00],\n",
       "       [-4.20788551e+00,  5.05125687e+00,  4.83859127e-01],\n",
       "       [ 2.83622971e+00,  8.32014754e+00,  2.80648043e+00],\n",
       "       [-4.20788551e+00,  5.05125687e+00,  4.83859127e-01],\n",
       "       [ 1.37663774e+01,  3.46386042e+00, -3.44010261e-01],\n",
       "       [-4.20788551e+00,  5.05125687e+00,  4.83859127e-01],\n",
       "       [ 7.30762495e-02, -3.72415133e+00,  1.52925798e+00],\n",
       "       [-4.26984908e+00,  5.04406821e+00,  4.77106972e-01],\n",
       "       [ 1.45173922e+01,  5.20390227e+00,  5.39181099e+00],\n",
       "       [-1.74131218e+00,  2.04532961e+00, -4.02577629e+00],\n",
       "       [ 9.95591151e+00, -2.49543933e+00, -1.08877239e+00],\n",
       "       [ 1.44945857e+01,  3.32392967e+00,  1.85828187e+00],\n",
       "       [ 1.30568412e+01,  5.90318537e+00,  3.38633880e+00],\n",
       "       [ 1.26992049e+01,  7.31781668e-02, -1.51379941e+00],\n",
       "       [ 4.83155355e-01,  5.60339903e+00,  1.10089089e+00],\n",
       "       [-1.11582865e+01,  9.57256404e-01, -1.51044175e+00],\n",
       "       [-4.48501035e+00, -1.37738047e+00,  1.11146142e-01],\n",
       "       [-1.17145044e+01,  1.78853521e+00, -1.89538107e+00],\n",
       "       [-8.94240689e-02, -3.94393919e+00,  2.53307654e+00],\n",
       "       [ 1.27824230e-01, -3.61912819e+00,  2.48426307e+00],\n",
       "       [-3.78207742e+00, -3.47959346e+00,  1.38686605e+00],\n",
       "       [-1.13700358e+01,  1.64546847e+00, -1.74225499e+00],\n",
       "       [-2.52411668e+00, -3.30766491e+00,  2.36937774e+00],\n",
       "       [-1.02996824e+01,  4.47443633e-01, -1.01552696e+00],\n",
       "       [-3.74915168e+00, -3.84916596e+00,  1.86961156e+00],\n",
       "       [-7.48835220e+00, -2.13279223e+00,  9.14340569e-01],\n",
       "       [ 5.45987552e+00, -4.46999322e+00, -7.67847855e-01],\n",
       "       [-1.93876224e+00, -1.47155038e+00, -1.57311089e+00],\n",
       "       [ 1.42449195e+01,  2.24314539e+00, -7.30801236e-02],\n",
       "       [-5.77038948e+00,  1.37890464e+00, -2.54072158e+00],\n",
       "       [-9.11429971e+00,  1.76636355e+00, -2.39831629e+00],\n",
       "       [-6.47967312e-01, -3.23775702e+00,  2.78698637e+00],\n",
       "       [ 1.35318657e+01, -2.63785877e+00, -3.95908387e+00],\n",
       "       [ 1.21971375e+01,  1.46058511e+00, -4.98098414e-01],\n",
       "       [ 3.96273162e-01, -2.85023982e+00,  6.44028503e-01],\n",
       "       [ 2.09093324e+01, -6.46619337e-02, -1.61993391e+00],\n",
       "       [-7.47972943e+00,  7.45861413e-01, -1.86630343e+00],\n",
       "       [-1.31519549e+01,  3.12743575e+00, -2.47590095e+00],\n",
       "       [-9.13110139e+00,  8.59377763e-01, -5.72575599e-01]])"
      ]
     },
     "execution_count": 21,
     "metadata": {},
     "output_type": "execute_result"
    }
   ],
   "source": []
  },
  {
   "cell_type": "code",
   "execution_count": null,
   "id": "88a0f4f8-5c58-4917-9443-7374b45b8db7",
   "metadata": {},
   "outputs": [],
   "source": []
  }
 ],
 "metadata": {
  "kernelspec": {
   "display_name": "Python 3 (ipykernel)",
   "language": "python",
   "name": "python3"
  },
  "language_info": {
   "codemirror_mode": {
    "name": "ipython",
    "version": 3
   },
   "file_extension": ".py",
   "mimetype": "text/x-python",
   "name": "python",
   "nbconvert_exporter": "python",
   "pygments_lexer": "ipython3",
   "version": "3.10.5"
  }
 },
 "nbformat": 4,
 "nbformat_minor": 5
}
