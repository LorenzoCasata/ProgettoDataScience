{
 "cells": [
  {
   "cell_type": "code",
   "execution_count": 1,
   "id": "dfba7a53",
   "metadata": {},
   "outputs": [],
   "source": [
    "\n",
    "\n",
    "import pandas as pd\n",
    "import os\n",
    "import os.path\n",
    "import matplotlib.pyplot as plt\n",
    "import sklearn as skl\n",
    "import numpy as np\n",
    "import scipy \n",
    "#import PyQt5\n",
    "from matplotlib.colors import BoundaryNorm\n",
    "import matplotlib.ticker as ticker\n",
    "from matplotlib.colors import ListedColormap, LinearSegmentedColormap\n",
    "from matplotlib.ticker import MaxNLocator\n",
    "from scipy.signal import find_peaks\n",
    "from sklearn import preprocessing\n",
    "from sklearn.decomposition import PCA\n",
    "from sklearn.cluster import DBSCAN\n",
    "from AllPackage.PreProcessing import *\n",
    "\n"
   ]
  },
  {
   "cell_type": "code",
   "execution_count": 2,
   "id": "6ab031f9",
   "metadata": {},
   "outputs": [
    {
     "data": {
      "text/plain": [
       "['S1_bkg_mapA_11x11.txt',\n",
       " 'S1_mapA_11x11.txt',\n",
       " 'S2_bkg_mapA_11x11.txt',\n",
       " 'S2_mapA_11x11.txt']"
      ]
     },
     "execution_count": 2,
     "metadata": {},
     "output_type": "execute_result"
    }
   ],
   "source": [
    "# leggo i file contunuti nella cartella Campioni_S_11x11 e acquisisco i nomi dei file\n",
    "pathCampioni = '../Campioni _S_11x11/'\n",
    "namefiles = [f for f in os.listdir(pathCampioni) if os.path.isfile(os.path.join(pathCampioni, f))]\n",
    "namefiles"
   ]
  },
  {
   "cell_type": "code",
   "execution_count": 3,
   "id": "c229a098",
   "metadata": {},
   "outputs": [],
   "source": [
    "\n",
    "\n",
    "# creo la variabile contenente i nomi delle colonne del pandas dataframe\n",
    "\n",
    "columns = ['WaveNum']+[f'row{k}_point{i}' for k in range(1,12) for i in range(1,12)]\n",
    "\n"
   ]
  },
  {
   "cell_type": "code",
   "execution_count": 4,
   "id": "ebab5733",
   "metadata": {},
   "outputs": [],
   "source": [
    "# creo i pandas dataframe dai file contenuti nella cartella Campioni_S_11x11\n",
    "\n",
    "#for name in namefiles:\n",
    "#    globals()['dataset_%s' % name[:-4]] = pd.read_csv('./Campioni _S_11x11/'+namefiles[0], delim_whitespace=True,names = columns)\n",
    "    \n",
    "data_S1_bkg = pd.read_csv(pathCampioni+namefiles[0], delim_whitespace=True,names = columns)\n",
    "data_S1 = pd.read_csv(pathCampioni+namefiles[1], delim_whitespace=True,names = columns)\n",
    "data_S2_bkg = pd.read_csv(pathCampioni+namefiles[2], delim_whitespace=True,names = columns)\n",
    "data_S2 = pd.read_csv(pathCampioni+namefiles[3], delim_whitespace=True,names = columns)"
   ]
  },
  {
   "cell_type": "code",
   "execution_count": 5,
   "id": "154f9bee",
   "metadata": {},
   "outputs": [],
   "source": [
    "#proviamo a fare un po' di preprocessing\n",
    "\n",
    "data_S1_bkg_smooth = smooth_filter_savgol(data_S1_bkg,data_S1_bkg.columns)\n",
    "\n",
    "#plot_spettri_pdf(S1_bkg_smooth,S1_bkg_smooth.columns,'./smooth_pdf/')\n",
    "#plot_spettri_pdf(data_S1_bkg,data_S1_bkg.columns,'./pdf/')\n",
    "\n",
    "\n",
    "#[peaks_wn, peaks_int] = trova_picchi(data_S1_bkg_smooth,data_S1_bkg.columns)\n",
    "\n",
    "data_S1_bkg_smooth_Mm = norm_max_min(data_S1_bkg,data_S1_bkg.columns)\n",
    "#il trovapicchi sembra essere indip. da l'uso dello smooth\n",
    "\n",
    "\n",
    "#prova di trasposizione\n",
    "S1_bkg_trasp = transpose_df(data_S1_bkg_smooth_Mm)"
   ]
  },
  {
   "cell_type": "code",
   "execution_count": 6,
   "id": "2a8e34ae",
   "metadata": {},
   "outputs": [],
   "source": [
    "pca = skl.decomposition.PCA(n_components=3)\n",
    "StandardScaler = skl.preprocessing.StandardScaler()"
   ]
  },
  {
   "cell_type": "code",
   "execution_count": 7,
   "id": "1b702c55",
   "metadata": {},
   "outputs": [],
   "source": [
    "\n",
    "\n",
    "StandardScaler.fit_transform(S1_bkg_trasp)\n",
    "asd = pca.fit(S1_bkg_trasp)\n",
    "\n"
   ]
  },
  {
   "cell_type": "code",
   "execution_count": 8,
   "id": "980989bd",
   "metadata": {},
   "outputs": [
    {
     "data": {
      "text/plain": [
       "array([0.63518543, 0.09919981, 0.04668257])"
      ]
     },
     "execution_count": 8,
     "metadata": {},
     "output_type": "execute_result"
    }
   ],
   "source": [
    "wow = asd.transform(S1_bkg_trasp)\n",
    "asd.explained_variance_ratio_"
   ]
  },
  {
   "cell_type": "code",
   "execution_count": 9,
   "id": "bd98d1dd",
   "metadata": {},
   "outputs": [
    {
     "data": {
      "text/plain": [
       "array([ 0,  1, -1,  2,  2,  2,  2,  2,  0,  1,  2,  2,  2,  2,  2, -1,  2,\n",
       "        0,  2,  2,  2,  2,  2,  2,  2,  2, -1,  3, -1,  2,  2, -1, -1,  2,\n",
       "       -1,  1,  2,  2, -1,  2,  2,  2,  2,  2,  3,  0,  2, -1, -1,  2,  2,\n",
       "        2,  2,  2,  2,  2,  2,  2,  2,  2,  2,  2, -1,  3,  1,  1,  0, -1,\n",
       "        3,  1,  2,  2, -1,  2, -1,  2,  0,  2,  3,  2,  2, -1,  2,  2,  2,\n",
       "        1, -1, -1,  1,  2,  2,  2, -1,  1,  2, -1,  2,  1, -1,  2,  2,  2,\n",
       "        2,  2, -1,  2,  2,  2,  2, -1,  2, -1,  2,  2,  1,  2, -1, -1, -1,\n",
       "       -1,  1], dtype=int64)"
      ]
     },
     "execution_count": 9,
     "metadata": {},
     "output_type": "execute_result"
    }
   ],
   "source": [
    "# cluster è un array contenente l'indice del cluster di appartenenza di ogni punto del dataframe\n",
    "cluster = DBSCAN(eps=1.5, min_samples=5).fit_predict(wow)\n",
    "cluster"
   ]
  },
  {
   "cell_type": "code",
   "execution_count": 10,
   "id": "43b7ceef",
   "metadata": {},
   "outputs": [],
   "source": [
    "color = []\n",
    "for x in cluster:\n",
    "    if(x==0):\n",
    "        color.append('tab:blue')\n",
    "    if(x==1):\n",
    "        color.append('tab:orange')\n",
    "    if(x==2):\n",
    "        color.append('tab:green')\n",
    "    if(x==3):\n",
    "        color.append('tab:red' )\n",
    "    if(x==-1):\n",
    "        color.append('tab:purple')"
   ]
  },
  {
   "cell_type": "code",
   "execution_count": 11,
   "id": "ff695321",
   "metadata": {},
   "outputs": [],
   "source": [
    "\n",
    "\n",
    "%matplotlib qt\n",
    "\n",
    "fig = plt.figure();\n",
    "\n",
    "X=wow[:,0]\n",
    "Y=wow[:,1]\n",
    "Z=wow[:,2]\n",
    "\n",
    "ax = fig.add_subplot(111,projection='3d');\n",
    "ax.scatter(X, Y, Z, c=color, marker='x')\n",
    "ax.grid(which='minor', linestyle=':', linewidth=0.5);\n",
    "\n",
    "ax.minorticks_on();\n",
    "\n",
    "ax.set_title(data_S1_bkg.columns[24]);\n",
    "ax.set_ylabel('PC1')\n",
    "ax.set_xlabel('PC0')\n",
    "ax.set_zlabel('PC2')\n",
    "\n",
    "plt.show()\n",
    "\n"
   ]
  },
  {
   "cell_type": "code",
   "execution_count": null,
   "id": "60817826",
   "metadata": {},
   "outputs": [],
   "source": []
  },
  {
   "cell_type": "code",
   "execution_count": null,
   "id": "23086872",
   "metadata": {},
   "outputs": [],
   "source": []
  },
  {
   "cell_type": "code",
   "execution_count": null,
   "id": "1c244d67",
   "metadata": {},
   "outputs": [],
   "source": []
  }
 ],
 "metadata": {
  "kernelspec": {
   "display_name": "Python 3 (ipykernel)",
   "language": "python",
   "name": "python3"
  },
  "language_info": {
   "codemirror_mode": {
    "name": "ipython",
    "version": 3
   },
   "file_extension": ".py",
   "mimetype": "text/x-python",
   "name": "python",
   "nbconvert_exporter": "python",
   "pygments_lexer": "ipython3",
   "version": "3.10.5"
  }
 },
 "nbformat": 4,
 "nbformat_minor": 5
}
