{
 "cells": [
  {
   "cell_type": "code",
   "execution_count": 1,
   "id": "b6190ccb",
   "metadata": {},
   "outputs": [],
   "source": [
    "import pandas as pd\n",
    "import os\n",
    "import os.path\n",
    "import matplotlib.pyplot as plt\n",
    "import sklearn as skl\n",
    "import numpy as np\n",
    "import scipy \n",
    "from scipy.signal import find_peaks\n",
    "from sklearn import preprocessing"
   ]
  },
  {
   "cell_type": "code",
   "execution_count": 2,
   "id": "f28674e4",
   "metadata": {},
   "outputs": [],
   "source": [
    "#with open('Etichette/BANK_LIST.dat') as f:\n",
    "#    features = f.read().splitlines()"
   ]
  },
  {
   "cell_type": "code",
   "execution_count": 3,
   "id": "e2869cc5",
   "metadata": {},
   "outputs": [
    {
     "ename": "FileNotFoundError",
     "evalue": "[WinError 3] Impossibile trovare il percorso specificato: './Campioni _S_11x11'",
     "output_type": "error",
     "traceback": [
      "\u001b[1;31m---------------------------------------------------------------------------\u001b[0m",
      "\u001b[1;31mFileNotFoundError\u001b[0m                         Traceback (most recent call last)",
      "Input \u001b[1;32mIn [3]\u001b[0m, in \u001b[0;36m<cell line: 3>\u001b[1;34m()\u001b[0m\n\u001b[0;32m      1\u001b[0m \u001b[38;5;66;03m# leggo i file contunuti nella cartella Campioni_S_11x11 e acquisisco i nomi dei file\u001b[39;00m\n\u001b[1;32m----> 3\u001b[0m namefiles \u001b[38;5;241m=\u001b[39m [f \u001b[38;5;28;01mfor\u001b[39;00m f \u001b[38;5;129;01min\u001b[39;00m \u001b[43mos\u001b[49m\u001b[38;5;241;43m.\u001b[39;49m\u001b[43mlistdir\u001b[49m\u001b[43m(\u001b[49m\u001b[38;5;124;43m'\u001b[39;49m\u001b[38;5;124;43m./Campioni _S_11x11\u001b[39;49m\u001b[38;5;124;43m'\u001b[39;49m\u001b[43m)\u001b[49m \u001b[38;5;28;01mif\u001b[39;00m os\u001b[38;5;241m.\u001b[39mpath\u001b[38;5;241m.\u001b[39misfile(os\u001b[38;5;241m.\u001b[39mpath\u001b[38;5;241m.\u001b[39mjoin(\u001b[38;5;124m'\u001b[39m\u001b[38;5;124m./Campioni _S_11x11\u001b[39m\u001b[38;5;124m'\u001b[39m, f))]\n\u001b[0;32m      4\u001b[0m namefiles\n",
      "\u001b[1;31mFileNotFoundError\u001b[0m: [WinError 3] Impossibile trovare il percorso specificato: './Campioni _S_11x11'"
     ]
    }
   ],
   "source": [
    "# leggo i file contunuti nella cartella Campioni_S_11x11 e acquisisco i nomi dei file\n",
    "\n",
    "namefiles = [f for f in os.listdir('./Campioni _S_11x11') if os.path.isfile(os.path.join('./Campioni _S_11x11', f))]\n",
    "namefiles"
   ]
  },
  {
   "cell_type": "code",
   "execution_count": null,
   "id": "f827890b",
   "metadata": {},
   "outputs": [],
   "source": [
    "# creo la variabile contenente i nomi delle colonne del pandas dataframe\n",
    "\n",
    "columns = ['WaveNum']+[f'row{k}_point{i}' for k in range(1,12) for i in range(1,12)]\n"
   ]
  },
  {
   "cell_type": "code",
   "execution_count": null,
   "id": "526a29f8",
   "metadata": {},
   "outputs": [],
   "source": [
    "# creo i pandas dataframe dai file contenuti nella cartella Campioni_S_11x11\n",
    "\n",
    "#for name in namefiles:\n",
    "#    globals()['dataset_%s' % name[:-4]] = pd.read_csv('./Campioni _S_11x11/'+namefiles[0], delim_whitespace=True,names = columns)\n",
    "    \n",
    "data_S1_bkg = pd.read_csv('./Campioni _S_11x11/'+namefiles[0], delim_whitespace=True,names = columns)\n",
    "data_S1 = pd.read_csv('./Campioni _S_11x11/'+namefiles[1], delim_whitespace=True,names = columns)\n",
    "data_S2_bkg = pd.read_csv('./Campioni _S_11x11/'+namefiles[2], delim_whitespace=True,names = columns)\n",
    "data_S2 = pd.read_csv('./Campioni _S_11x11/'+namefiles[3], delim_whitespace=True,names = columns)\n",
    "\n"
   ]
  },
  {
   "cell_type": "code",
   "execution_count": null,
   "id": "be8043dd",
   "metadata": {},
   "outputs": [],
   "source": [
    "# definisco la funzione che esegue il plot dello spettro di raman di ogni punto del campione 11x11,\n",
    "# e lo salva in una cartella, la cui directory deve essere passata in input, \n",
    "# il titolo e il nome del plot viene stampato usando le etichette delle colonne in modo incrementale\n",
    "# data = pandasdataframe contenente i dati nel formato 122 colonne\n",
    "# clmns = etichette delle colonne \n",
    "# directory = percorso della cartella nella quale inserire i plot salvati in fromato pdf, esempio './Plot_S1/plot_S1_'\n",
    "# silence =  True per spegnere l'output dei plot, False per visualizzare i plot direttamente\n",
    "\n",
    "def plot_spettri_pdf(data, clmns , directory, silence = bool ):\n",
    "    \n",
    "    i = 1\n",
    "\n",
    "\n",
    "    while i< len(clmns):\n",
    "    \n",
    "        fig = plt.figure();\n",
    "    \n",
    "        ax = fig.add_subplot(1, 1, 1);\n",
    "    \n",
    "        ax.plot(data[clmns[0]],  data[clmns[i]]);\n",
    "\n",
    "        ax.grid(which='minor', linestyle=':', linewidth=0.5);\n",
    "        ax.minorticks_on();\n",
    "    \n",
    "        ax.set_title(columns[i]);\n",
    "        ax.set_ylabel('Raman intensity')\n",
    "        ax.set_xlabel('Raman shift (cm$^{-1}$)')\n",
    "    \n",
    "        fig.savefig(directory+clmns[i]+'.pdf');\n",
    "        \n",
    "        if silence:\n",
    "            plt.close();\n",
    "    \n",
    "        i = i+1\n",
    "\n",
    "        \n"
   ]
  },
  {
   "cell_type": "code",
   "execution_count": null,
   "id": "f4f3b3d6",
   "metadata": {},
   "outputs": [],
   "source": [
    "# definisco la funzione che normalizza gli spettri di Raman in area, lasciando l'asse dei numeri d'onda invariato\n",
    "# data = dataframe da normalizzare, normalizzazione colonna per colonna\n",
    "# return pandas dataframe riscalato\n",
    "\n",
    "def norm_area(data, clmns):\n",
    "    \n",
    "    data_norm = data.copy()\n",
    "    \n",
    "    for colonna in clmns:\n",
    "        \n",
    "        int_psi_square = scipy.integrate.simps(data[colonna], data[clmns[0]])\n",
    "        data_norm[colonna] = data[colonna]/int_psi_square\n",
    "    \n",
    "    data_norm[clmns[0]] = data[clmns[0]]\n",
    "    \n",
    "    return(data_norm)"
   ]
  },
  {
   "cell_type": "code",
   "execution_count": null,
   "id": "b7566a26",
   "metadata": {},
   "outputs": [],
   "source": [
    "# definisco la funzione che normalizza gli spettri di Raman in intenistà, settando il valore massimo a 1 e il minimo a 0\n",
    "# data = dataframe da normalizzare\n",
    "# clmns = etichette delle colonne\n",
    "# return pandas dataframe riscalato\n",
    "\n",
    "def norm_max_min(dataf, clmns):\n",
    "    \n",
    "    scaler =  skl.preprocessing.MinMaxScaler()\n",
    "\n",
    "    data_normMm = pd.DataFrame( columns = clmns, data = scaler.fit_transform(dataf[clmns]))\n",
    "    data_normMm['WaveNum'] = dataf[clmns[0]]\n",
    "    \n",
    "    return(data_normMm)"
   ]
  },
  {
   "cell_type": "code",
   "execution_count": null,
   "id": "ce130edd",
   "metadata": {},
   "outputs": [],
   "source": [
    "# funzione che trova i numeri d'onda corrispondenti ai picchi\n",
    "# return:\n",
    "# peaks_Wn = numeri d'onda corrispondenti ai picchi, è una list di array, ogni array sono le ascisse dei picchi per lo spettro...\n",
    "# ... di un punto della griglia 11x11.\n",
    "# peaks_Int = intensità del picco, è una list di array, ogni array sono le ordinate dei picchi per lo spettro...\n",
    "# ... di un punto della griglia 11x11.\n",
    "# NOTA BENE\n",
    "# la funzione è molto sensibile al valore del picco, qui è ottimizzata per lavorare sui dati NON RINORMALIZZATI\n",
    "# la normalizzazione non cambia la forma dello spettro quindi il conteggio dei picchi può essere fatto considerando \n",
    "# solo il campione non normalizzato\n",
    "\n",
    "def trova_picchi(dataf, clmns):\n",
    "      \n",
    "    x,_ = find_peaks(dataf[clmns[1]],  prominence=11 )#width = 5, height = 0.05) #,\n",
    "    \n",
    "    j = 0\n",
    "    numero_onda = np.empty(len(x))\n",
    "    intensity = np.empty(len(x))\n",
    "    while j<len(x):\n",
    "            \n",
    "            numero_onda[j] = dataf.iloc[x[j]].WaveNum\n",
    "            intensity[j] = dataf.iloc[x[j]][clmns[1]]\n",
    "            \n",
    "            j = j+1\n",
    "            \n",
    "    peaks_Wn = [numero_onda]\n",
    "    peaks_Int = [intensity]\n",
    "    \n",
    "    \n",
    "    i = 2\n",
    "    while i<len(clmns):\n",
    "        \n",
    "        x, _ = find_peaks(dataf[clmns[i]], prominence=11)\n",
    "        \n",
    "        \n",
    "        j = 0\n",
    "        numero_onda = np.empty(len(x))\n",
    "        intensity = np.empty(len(x))\n",
    "        while j<len(x):\n",
    "            \n",
    "            numero_onda[j] = dataf.iloc[x[j]].WaveNum\n",
    "            intensity[j] = dataf.iloc[x[j]][clmns[i]]\n",
    "            j = j+1\n",
    "    \n",
    "        peaks_Wn.append(numero_onda)\n",
    "        peaks_Int.append(intensity)\n",
    "        \n",
    "        i = i+1\n",
    "    \n",
    "    return(peaks_Wn, peaks_Int)"
   ]
  },
  {
   "cell_type": "code",
   "execution_count": null,
   "id": "9b9ea83f",
   "metadata": {},
   "outputs": [],
   "source": [
    "# funzione che data una list di array contenente i numeri d'onda corrispondenti ai picchi degli spettri di Raman\n",
    "# restituisce un array con il range di numeri d'onda nel quale si trovano i picchi\n",
    "\n",
    "def range_picchi(wave_peak):\n",
    "    \n",
    "    wn_range_pic = np.empty( (len(wave_peak),2) )\n",
    "    \n",
    "    i = 0\n",
    "    \n",
    "    while i<len(wave_peak):\n",
    "        \n",
    "        x =  wave_peak[i]\n",
    "        wn_range_pic[i] = [x[0],x[-1]]\n",
    "        i = i+1\n",
    "        \n",
    "    return(wn_range_pic)        "
   ]
  },
  {
   "cell_type": "code",
   "execution_count": null,
   "id": "35920ab9",
   "metadata": {},
   "outputs": [],
   "source": [
    "# funzione che dato il dataframe contenente gli spettri di Raman calcola l'intensità integrale\n",
    "# return numpy.array con l'intensità integrale di tutti gli spettri\n",
    "\n",
    "def integral_intensity(dataf, clmns):\n",
    "    \n",
    "    intg = np.empty( len(clmns)-1 )\n",
    "    \n",
    "    i = 1\n",
    "    \n",
    "    while i < len(clmns):\n",
    "        \n",
    "        intg[i-1] = np.trapz(dataf[clmns[i]], x = dataf[clmns[0]])\n",
    "        i = i+1\n",
    "        \n",
    "    return(intg)"
   ]
  },
  {
   "cell_type": "code",
   "execution_count": null,
   "id": "898c2927",
   "metadata": {},
   "outputs": [],
   "source": [
    "# funzione che dato un pandas dataframe contenente gli spettri di Raman resitutisce un pd.dataframe contenente gli stessi\n",
    "# spettri con applicato il filtro passabasso Savitzky-Golay\n",
    "\n",
    "def smooth_filter_savgol(dataf, clmns):\n",
    "    \n",
    "    \n",
    "\n",
    "    temp = np.empty( (  len(dataf[clmns[0]]) ,len(clmns) ) )\n",
    "   \n",
    "    i = 1\n",
    "    while i<len(clmns):\n",
    "        \n",
    "        \n",
    "        temp[:,i] = scipy.signal.savgol_filter(x = dataf[clmns[i]], window_length = 25, polyorder = 3)\n",
    "        i = i+1\n",
    "        \n",
    "        \n",
    "    data_smth = pd.DataFrame( columns = clmns, data = temp)\n",
    "    data_smth['WaveNum'] = dataf[clmns[0]]\n",
    "   \n",
    "    return(data_smth)\n"
   ]
  },
  {
   "cell_type": "code",
   "execution_count": null,
   "id": "3f5c4d39",
   "metadata": {},
   "outputs": [
    {
     "ename": "NameError",
     "evalue": "name 'data_S1' is not defined",
     "output_type": "error",
     "traceback": [
      "\u001b[0;31m---------------------------------------------------------------------------\u001b[0m",
      "\u001b[0;31mNameError\u001b[0m                                 Traceback (most recent call last)",
      "Input \u001b[0;32mIn [20]\u001b[0m, in \u001b[0;36m<cell line: 3>\u001b[0;34m()\u001b[0m\n\u001b[1;32m      1\u001b[0m \u001b[38;5;66;03m# normalizzo gli spettri in intensità\u001b[39;00m\n\u001b[0;32m----> 3\u001b[0m data_S1_norm_Mm \u001b[38;5;241m=\u001b[39m norm_max_min(\u001b[43mdata_S1\u001b[49m, columns)\n\u001b[1;32m      5\u001b[0m data_S1_bkg_norm_Mm \u001b[38;5;241m=\u001b[39m norm_max_min(data_S1_bkg, columns)\n\u001b[1;32m      7\u001b[0m data_S2_norm_Mm \u001b[38;5;241m=\u001b[39m norm_max_min(data_S2, columns)\n",
      "\u001b[0;31mNameError\u001b[0m: name 'data_S1' is not defined"
     ]
    }
   ],
   "source": [
    "# normalizzo gli spettri in intensità\n",
    "\n",
    "data_S1_norm_Mm = norm_max_min(data_S1, columns)\n",
    "\n",
    "data_S1_bkg_norm_Mm = norm_max_min(data_S1_bkg, columns)\n",
    "\n",
    "data_S2_norm_Mm = norm_max_min(data_S2, columns)\n",
    "\n",
    "data_S2_bkg_norm_Mm = norm_max_min(data_S2_bkg, columns)\n",
    "\n",
    "# normalizzo gli spettri in area\n",
    "\n",
    "data_S1_norm_area = norm_area(data_S1, columns)\n",
    "\n",
    "data_S1_bkg_norm_area = norm_area(data_S1_bkg, columns)\n",
    "\n",
    "data_S2_norm_area = norm_area(data_S2, columns)\n",
    "\n",
    "data_S2_bkg_norm_area = norm_area(data_S2_bkg, columns)"
   ]
  },
  {
   "cell_type": "code",
   "execution_count": null,
   "id": "2a7fe4ee",
   "metadata": {},
   "outputs": [],
   "source": [
    "#plot_spettri_pdf( data = data_S1_norm, clmns = columns, directory ='./Plot_S1/plot_S1_' , silence = True)\n",
    "#plot_spettri_pdf( data = data_S1_bkg_norm, clmns = columns, directory ='./Plot_S1_bkg/plot_S1 _bkg_' , silence = True)\n",
    "#plot_spettri_pdf( data = data_S2_norm, clmns = columns, directory ='./Plot_S2/plot_S2_' , silence = True)\n",
    "#plot_spettri_pdf( data = data_S1_bkg_norm, clmns = columns, directory ='./Plot_S2_bkg/plot_S2_bkg_' , silence = True)"
   ]
  },
  {
   "cell_type": "code",
   "execution_count": null,
   "id": "5c033c6d",
   "metadata": {},
   "outputs": [
    {
     "ename": "NameError",
     "evalue": "name 'data_S1_bkg' is not defined",
     "output_type": "error",
     "traceback": [
      "\u001b[0;31m---------------------------------------------------------------------------\u001b[0m",
      "\u001b[0;31mNameError\u001b[0m                                 Traceback (most recent call last)",
      "Input \u001b[0;32mIn [22]\u001b[0m, in \u001b[0;36m<cell line: 1>\u001b[0;34m()\u001b[0m\n\u001b[0;32m----> 1\u001b[0m data_S1_smth \u001b[38;5;241m=\u001b[39m smooth_filter_savgol(\u001b[43mdata_S1_bkg\u001b[49m, columns)\n",
      "\u001b[0;31mNameError\u001b[0m: name 'data_S1_bkg' is not defined"
     ]
    }
   ],
   "source": [
    "#data_S1_smth = smooth_filter_savgol(data_S1_bkg, columns)"
   ]
  },
  {
   "cell_type": "code",
   "execution_count": null,
   "id": "e844b719",
   "metadata": {},
   "outputs": [
    {
     "ename": "NameError",
     "evalue": "name 'data_S1_smth' is not defined",
     "output_type": "error",
     "traceback": [
      "\u001b[0;31m---------------------------------------------------------------------------\u001b[0m",
      "\u001b[0;31mNameError\u001b[0m                                 Traceback (most recent call last)",
      "Input \u001b[0;32mIn [23]\u001b[0m, in \u001b[0;36m<cell line: 2>\u001b[0;34m()\u001b[0m\n\u001b[1;32m      1\u001b[0m fig \u001b[38;5;241m=\u001b[39m plt\u001b[38;5;241m.\u001b[39mfigure();\n\u001b[0;32m----> 2\u001b[0m plt\u001b[38;5;241m.\u001b[39mplot(\u001b[43mdata_S1_smth\u001b[49m\u001b[38;5;241m.\u001b[39mWaveNum, data_S1_smth\u001b[38;5;241m.\u001b[39mrow1_point2, linewidth \u001b[38;5;241m=\u001b[39m \u001b[38;5;241m0.1\u001b[39m)\n\u001b[1;32m      3\u001b[0m plt\u001b[38;5;241m.\u001b[39mplot(data_S1_bkg\u001b[38;5;241m.\u001b[39mWaveNum, data_S1_bkg\u001b[38;5;241m.\u001b[39mrow1_point2, linewidth \u001b[38;5;241m=\u001b[39m \u001b[38;5;241m0.1\u001b[39m)\n\u001b[1;32m      4\u001b[0m fig\u001b[38;5;241m.\u001b[39msavefig(\u001b[38;5;124m'\u001b[39m\u001b[38;5;124m./Prova.pdf\u001b[39m\u001b[38;5;124m'\u001b[39m)\n",
      "\u001b[0;31mNameError\u001b[0m: name 'data_S1_smth' is not defined"
     ]
    },
    {
     "data": {
      "text/plain": [
       "<Figure size 432x288 with 0 Axes>"
      ]
     },
     "metadata": {},
     "output_type": "display_data"
    }
   ],
   "source": [
    "#fig = plt.figure();\n",
    "#plt.plot(data_S1_smth.WaveNum, data_S1_smth.row1_point2, linewidth = 0.1)\n",
    "#plt.plot(data_S1_bkg.WaveNum, data_S1_bkg.row1_point2, linewidth = 0.1)\n",
    "#fig.savefig('./Prova.pdf');"
   ]
  },
  {
   "cell_type": "code",
   "execution_count": null,
   "id": "4624361b",
   "metadata": {},
   "outputs": [
    {
     "ename": "NameError",
     "evalue": "name 'data_S1' is not defined",
     "output_type": "error",
     "traceback": [
      "\u001b[0;31m---------------------------------------------------------------------------\u001b[0m",
      "\u001b[0;31mNameError\u001b[0m                                 Traceback (most recent call last)",
      "Input \u001b[0;32mIn [24]\u001b[0m, in \u001b[0;36m<cell line: 1>\u001b[0;34m()\u001b[0m\n\u001b[0;32m----> 1\u001b[0m \u001b[38;5;28mlen\u001b[39m(\u001b[43mdata_S1\u001b[49m[columns[\u001b[38;5;241m0\u001b[39m]])\n",
      "\u001b[0;31mNameError\u001b[0m: name 'data_S1' is not defined"
     ]
    }
   ],
   "source": [
    "#len(data_S1[columns[0]])"
   ]
  },
  {
   "cell_type": "code",
   "execution_count": null,
   "id": "80c7d67f",
   "metadata": {},
   "outputs": [],
   "source": []
  }
 ],
 "metadata": {
  "kernelspec": {
   "display_name": "Python 3 (ipykernel)",
   "language": "python",
   "name": "python3"
  },
  "language_info": {
   "codemirror_mode": {
    "name": "ipython",
    "version": 3
   },
   "file_extension": ".py",
   "mimetype": "text/x-python",
   "name": "python",
   "nbconvert_exporter": "python",
   "pygments_lexer": "ipython3",
   "version": "3.10.5"
  }
 },
 "nbformat": 4,
 "nbformat_minor": 5
}
